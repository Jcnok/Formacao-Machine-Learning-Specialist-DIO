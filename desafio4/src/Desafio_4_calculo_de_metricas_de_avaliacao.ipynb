{
 "cells": [
  {
   "cell_type": "markdown",
   "id": "05071759",
   "metadata": {},
   "source": [
    "# Projeto Módulo 4: Cálculo de Métricas de Avaliação de Aprendizado"
   ]
  },
  {
   "cell_type": "markdown",
   "id": "8cfeaf59",
   "metadata": {},
   "source": [
    "## Neste projeto, vamos calcular as principais métricas para avaliação de modelos de classificação de dados, como acurácia, sensibilidade (recall), especificidade, precisão e F-score. Para que seja possível implementar estas funções, você deve utilizar os métodos e suas fórmulas correspondentes (Tabela 1)."
   ]
  },
  {
   "cell_type": "markdown",
   "id": "39036c00",
   "metadata": {},
   "source": [
    "## Para a leitura dos valores de VP, VN, FP e FN, será necessário escolher uma matriz de confusão para a base dos cálculos. Essa matriz você pode escolher de forma arbitraria, pois nosso objetivo é entender como funciona cada métrica."
   ]
  },
  {
   "cell_type": "markdown",
   "id": "39b1f0f9",
   "metadata": {},
   "source": [
    "<img src=\"..\\img\\tab1.png\" align='center' alt=\"drawing\" width=\"603\" heigth=\"221\"/>"
   ]
  },
  {
   "cell_type": "markdown",
   "id": "42f74100",
   "metadata": {},
   "source": [
    "Para esse projeto de exemplo, vou utilizar um modelo de classificação para prever se uma amostra de tecido é benigna(classe 1) ou maligna(classe 0). \n",
    "O conjunto de dados Breast Cancer Wisconsin é uma base de dados amplamente utilizada para problemas de classificação relacionados ao diagnóstico de câncer de mama. \n",
    "\n",
    "O conjunto de dados consiste em 569 amostras de tecido mamário, com 30 características diferentes para cada amostra. Além das características, o conjunto também fornece as classes reais associadas a cada amostra, indicando se é benigna ou maligna."
   ]
  },
  {
   "cell_type": "markdown",
   "id": "36a8f161",
   "metadata": {},
   "source": [
    "## Carregando as bibliotecas:"
   ]
  },
  {
   "cell_type": "code",
   "execution_count": 251,
   "id": "0639a569",
   "metadata": {},
   "outputs": [],
   "source": [
    "import numpy as np\n",
    "import pandas as pd\n",
    "import matplotlib.pyplot as plt\n",
    "import seaborn as sns\n",
    "from sklearn.datasets import load_breast_cancer\n",
    "from sklearn.model_selection import train_test_split\n",
    "from sklearn.linear_model import LogisticRegression\n",
    "from sklearn.tree import DecisionTreeClassifier\n",
    "from sklearn.metrics import confusion_matrix, accuracy_score, precision_score, recall_score, f1_score"
   ]
  },
  {
   "cell_type": "markdown",
   "id": "d840a0d7",
   "metadata": {},
   "source": [
    "## Carregando o Dataset:"
   ]
  },
  {
   "cell_type": "code",
   "execution_count": 282,
   "id": "bd1321e7",
   "metadata": {},
   "outputs": [],
   "source": [
    "# Carregar o dataset\n",
    "data = load_breast_cancer()"
   ]
  },
  {
   "cell_type": "code",
   "execution_count": 283,
   "id": "eb00bff8",
   "metadata": {},
   "outputs": [
    {
     "data": {
      "text/plain": [
       "['malignant', 'benign']"
      ]
     },
     "execution_count": 283,
     "metadata": {},
     "output_type": "execute_result"
    }
   ],
   "source": [
    "list(data.target_names)"
   ]
  },
  {
   "cell_type": "code",
   "execution_count": 387,
   "id": "4c628d5f",
   "metadata": {},
   "outputs": [
    {
     "data": {
      "text/html": [
       "<div>\n",
       "<style scoped>\n",
       "    .dataframe tbody tr th:only-of-type {\n",
       "        vertical-align: middle;\n",
       "    }\n",
       "\n",
       "    .dataframe tbody tr th {\n",
       "        vertical-align: top;\n",
       "    }\n",
       "\n",
       "    .dataframe thead th {\n",
       "        text-align: right;\n",
       "    }\n",
       "</style>\n",
       "<table border=\"1\" class=\"dataframe\">\n",
       "  <thead>\n",
       "    <tr style=\"text-align: right;\">\n",
       "      <th></th>\n",
       "      <th>mean radius</th>\n",
       "      <th>mean texture</th>\n",
       "      <th>mean perimeter</th>\n",
       "      <th>mean area</th>\n",
       "      <th>mean smoothness</th>\n",
       "      <th>mean compactness</th>\n",
       "      <th>mean concavity</th>\n",
       "      <th>mean concave points</th>\n",
       "      <th>mean symmetry</th>\n",
       "      <th>mean fractal dimension</th>\n",
       "      <th>...</th>\n",
       "      <th>worst texture</th>\n",
       "      <th>worst perimeter</th>\n",
       "      <th>worst area</th>\n",
       "      <th>worst smoothness</th>\n",
       "      <th>worst compactness</th>\n",
       "      <th>worst concavity</th>\n",
       "      <th>worst concave points</th>\n",
       "      <th>worst symmetry</th>\n",
       "      <th>worst fractal dimension</th>\n",
       "      <th>target</th>\n",
       "    </tr>\n",
       "  </thead>\n",
       "  <tbody>\n",
       "    <tr>\n",
       "      <th>0</th>\n",
       "      <td>17.99</td>\n",
       "      <td>10.38</td>\n",
       "      <td>122.80</td>\n",
       "      <td>1001.0</td>\n",
       "      <td>0.11840</td>\n",
       "      <td>0.27760</td>\n",
       "      <td>0.3001</td>\n",
       "      <td>0.14710</td>\n",
       "      <td>0.2419</td>\n",
       "      <td>0.07871</td>\n",
       "      <td>...</td>\n",
       "      <td>17.33</td>\n",
       "      <td>184.60</td>\n",
       "      <td>2019.0</td>\n",
       "      <td>0.1622</td>\n",
       "      <td>0.6656</td>\n",
       "      <td>0.7119</td>\n",
       "      <td>0.2654</td>\n",
       "      <td>0.4601</td>\n",
       "      <td>0.11890</td>\n",
       "      <td>0</td>\n",
       "    </tr>\n",
       "    <tr>\n",
       "      <th>1</th>\n",
       "      <td>20.57</td>\n",
       "      <td>17.77</td>\n",
       "      <td>132.90</td>\n",
       "      <td>1326.0</td>\n",
       "      <td>0.08474</td>\n",
       "      <td>0.07864</td>\n",
       "      <td>0.0869</td>\n",
       "      <td>0.07017</td>\n",
       "      <td>0.1812</td>\n",
       "      <td>0.05667</td>\n",
       "      <td>...</td>\n",
       "      <td>23.41</td>\n",
       "      <td>158.80</td>\n",
       "      <td>1956.0</td>\n",
       "      <td>0.1238</td>\n",
       "      <td>0.1866</td>\n",
       "      <td>0.2416</td>\n",
       "      <td>0.1860</td>\n",
       "      <td>0.2750</td>\n",
       "      <td>0.08902</td>\n",
       "      <td>0</td>\n",
       "    </tr>\n",
       "    <tr>\n",
       "      <th>2</th>\n",
       "      <td>19.69</td>\n",
       "      <td>21.25</td>\n",
       "      <td>130.00</td>\n",
       "      <td>1203.0</td>\n",
       "      <td>0.10960</td>\n",
       "      <td>0.15990</td>\n",
       "      <td>0.1974</td>\n",
       "      <td>0.12790</td>\n",
       "      <td>0.2069</td>\n",
       "      <td>0.05999</td>\n",
       "      <td>...</td>\n",
       "      <td>25.53</td>\n",
       "      <td>152.50</td>\n",
       "      <td>1709.0</td>\n",
       "      <td>0.1444</td>\n",
       "      <td>0.4245</td>\n",
       "      <td>0.4504</td>\n",
       "      <td>0.2430</td>\n",
       "      <td>0.3613</td>\n",
       "      <td>0.08758</td>\n",
       "      <td>0</td>\n",
       "    </tr>\n",
       "    <tr>\n",
       "      <th>3</th>\n",
       "      <td>11.42</td>\n",
       "      <td>20.38</td>\n",
       "      <td>77.58</td>\n",
       "      <td>386.1</td>\n",
       "      <td>0.14250</td>\n",
       "      <td>0.28390</td>\n",
       "      <td>0.2414</td>\n",
       "      <td>0.10520</td>\n",
       "      <td>0.2597</td>\n",
       "      <td>0.09744</td>\n",
       "      <td>...</td>\n",
       "      <td>26.50</td>\n",
       "      <td>98.87</td>\n",
       "      <td>567.7</td>\n",
       "      <td>0.2098</td>\n",
       "      <td>0.8663</td>\n",
       "      <td>0.6869</td>\n",
       "      <td>0.2575</td>\n",
       "      <td>0.6638</td>\n",
       "      <td>0.17300</td>\n",
       "      <td>0</td>\n",
       "    </tr>\n",
       "    <tr>\n",
       "      <th>4</th>\n",
       "      <td>20.29</td>\n",
       "      <td>14.34</td>\n",
       "      <td>135.10</td>\n",
       "      <td>1297.0</td>\n",
       "      <td>0.10030</td>\n",
       "      <td>0.13280</td>\n",
       "      <td>0.1980</td>\n",
       "      <td>0.10430</td>\n",
       "      <td>0.1809</td>\n",
       "      <td>0.05883</td>\n",
       "      <td>...</td>\n",
       "      <td>16.67</td>\n",
       "      <td>152.20</td>\n",
       "      <td>1575.0</td>\n",
       "      <td>0.1374</td>\n",
       "      <td>0.2050</td>\n",
       "      <td>0.4000</td>\n",
       "      <td>0.1625</td>\n",
       "      <td>0.2364</td>\n",
       "      <td>0.07678</td>\n",
       "      <td>0</td>\n",
       "    </tr>\n",
       "  </tbody>\n",
       "</table>\n",
       "<p>5 rows × 31 columns</p>\n",
       "</div>"
      ],
      "text/plain": [
       "   mean radius  mean texture  mean perimeter  mean area  mean smoothness  \\\n",
       "0        17.99         10.38          122.80     1001.0          0.11840   \n",
       "1        20.57         17.77          132.90     1326.0          0.08474   \n",
       "2        19.69         21.25          130.00     1203.0          0.10960   \n",
       "3        11.42         20.38           77.58      386.1          0.14250   \n",
       "4        20.29         14.34          135.10     1297.0          0.10030   \n",
       "\n",
       "   mean compactness  mean concavity  mean concave points  mean symmetry  \\\n",
       "0           0.27760          0.3001              0.14710         0.2419   \n",
       "1           0.07864          0.0869              0.07017         0.1812   \n",
       "2           0.15990          0.1974              0.12790         0.2069   \n",
       "3           0.28390          0.2414              0.10520         0.2597   \n",
       "4           0.13280          0.1980              0.10430         0.1809   \n",
       "\n",
       "   mean fractal dimension  ...  worst texture  worst perimeter  worst area  \\\n",
       "0                 0.07871  ...          17.33           184.60      2019.0   \n",
       "1                 0.05667  ...          23.41           158.80      1956.0   \n",
       "2                 0.05999  ...          25.53           152.50      1709.0   \n",
       "3                 0.09744  ...          26.50            98.87       567.7   \n",
       "4                 0.05883  ...          16.67           152.20      1575.0   \n",
       "\n",
       "   worst smoothness  worst compactness  worst concavity  worst concave points  \\\n",
       "0            0.1622             0.6656           0.7119                0.2654   \n",
       "1            0.1238             0.1866           0.2416                0.1860   \n",
       "2            0.1444             0.4245           0.4504                0.2430   \n",
       "3            0.2098             0.8663           0.6869                0.2575   \n",
       "4            0.1374             0.2050           0.4000                0.1625   \n",
       "\n",
       "   worst symmetry  worst fractal dimension  target  \n",
       "0          0.4601                  0.11890       0  \n",
       "1          0.2750                  0.08902       0  \n",
       "2          0.3613                  0.08758       0  \n",
       "3          0.6638                  0.17300       0  \n",
       "4          0.2364                  0.07678       0  \n",
       "\n",
       "[5 rows x 31 columns]"
      ]
     },
     "execution_count": 387,
     "metadata": {},
     "output_type": "execute_result"
    }
   ],
   "source": [
    "# Criar o DataFrame\n",
    "df = pd.DataFrame(data.data, columns=data.feature_names)\n",
    "\n",
    "# Adicionar a coluna alvo (classe) ao DataFrame\n",
    "df['target'] = data.target #classes\n",
    "\n",
    "# Exibir as primeiras linhas do DataFrame\n",
    "df.head()"
   ]
  },
  {
   "cell_type": "markdown",
   "id": "097a8c6d",
   "metadata": {},
   "source": [
    "**Plotando um gráfico para visualizar a distribuição das classes**."
   ]
  },
  {
   "cell_type": "code",
   "execution_count": 388,
   "id": "127bd729",
   "metadata": {},
   "outputs": [
    {
     "data": {
      "image/png": "[encoded data removed]",
      "text/plain": [
       "<Figure size 432x288 with 1 Axes>"
      ]
     },
     "metadata": {
      "needs_background": "light"
     },
     "output_type": "display_data"
    }
   ],
   "source": [
    "# Plotar o gráfico de barras com Seaborn\n",
    "sns.countplot(x='target', data=df )\n",
    "\n",
    "# Configurar os rótulos do eixo x e y\n",
    "plt.xlabel('Classes')\n",
    "plt.ylabel('Contagem')\n",
    "\n",
    "# Definir o título do gráfico\n",
    "plt.title('Contagem das Classes no Conjunto de Dados')\n",
    "\n",
    "# Exibir o gráfico\n",
    "plt.show()\n"
   ]
  },
  {
   "cell_type": "markdown",
   "id": "9e3cbff8",
   "metadata": {},
   "source": [
    "## Dividindo o conjunto para Treino e Teste"
   ]
  },
  {
   "cell_type": "code",
   "execution_count": 389,
   "id": "9072bdd7",
   "metadata": {},
   "outputs": [],
   "source": [
    "# Separando a target\n",
    "\n",
    "X = df.drop('target',axis=1)\n",
    "\n",
    "y = df.target\n"
   ]
  },
  {
   "cell_type": "code",
   "execution_count": 390,
   "id": "ed2fa94b",
   "metadata": {},
   "outputs": [],
   "source": [
    "# Dividir o dataset em conjunto de treinamento e teste\n",
    "X_train, X_test, y_train, y_test = train_test_split(X, y, test_size=0.3, random_state=43)"
   ]
  },
  {
   "cell_type": "code",
   "execution_count": 391,
   "id": "74cfc1c6",
   "metadata": {},
   "outputs": [
    {
     "data": {
      "text/plain": [
       "DecisionTreeClassifier(random_state=43)"
      ]
     },
     "execution_count": 391,
     "metadata": {},
     "output_type": "execute_result"
    }
   ],
   "source": [
    "# Treinar o modelo de classificação\n",
    "model = DecisionTreeClassifier(random_state=43)\n",
    "model.fit(X_train, y_train)"
   ]
  },
  {
   "cell_type": "code",
   "execution_count": 392,
   "id": "cfd86055",
   "metadata": {},
   "outputs": [],
   "source": [
    "# Realizar a predição no conjunto de teste\n",
    "y_pred = model.predict(X_test)"
   ]
  },
  {
   "cell_type": "code",
   "execution_count": 393,
   "id": "d3f0b18b",
   "metadata": {},
   "outputs": [],
   "source": [
    "# Calcular a matriz de confusão\n",
    "cm = confusion_matrix(y_test, y_pred,)"
   ]
  },
  {
   "cell_type": "code",
   "execution_count": 398,
   "id": "553a5d3f",
   "metadata": {},
   "outputs": [
    {
     "data": {
      "image/png": "[encoded data removed]",
      "text/plain": [
       "<Figure size 432x288 with 2 Axes>"
      ]
     },
     "metadata": {
      "needs_background": "light"
     },
     "output_type": "display_data"
    }
   ],
   "source": [
    "from sklearn.metrics import ConfusionMatrixDisplay\n",
    "title = 'Matriz de confusão'\n",
    "disp = ConfusionMatrixDisplay.from_estimator(\n",
    "        model,\n",
    "        X_test,\n",
    "        y_test,\n",
    "        display_labels=list(data.target_names),   #model.classes_,\n",
    "        cmap=plt.cm.Blues,\n",
    "        normalize=None,\n",
    "    )\n",
    "disp.ax_.set_title(title);"
   ]
  },
  {
   "cell_type": "code",
   "execution_count": null,
   "id": "3bc8c7c9",
   "metadata": {},
   "outputs": [],
   "source": [
    "vp = 53, vn = 103, fp = 11, fn = 4"
   ]
  },
  {
   "cell_type": "markdown",
   "id": "2d7876c0",
   "metadata": {},
   "source": [
    "### Criando uma função para realizar os cálculos:"
   ]
  },
  {
   "cell_type": "code",
   "execution_count": 311,
   "id": "3c7f4558",
   "metadata": {},
   "outputs": [],
   "source": [
    "def calcular_metricas(vp, vn, fp, fn):\n",
    "    # Calcular acurácia\n",
    "    acuracia = (vp + vn) / (vp + vn + fp + fn)\n",
    "    \n",
    "    # Calcular sensibilidade (recall)\n",
    "    sensibilidade = vp / (vp + fn)\n",
    "    \n",
    "    # Calcular especificidade\n",
    "    especificidade = vn / (vn + fp)\n",
    "    \n",
    "    # Calcular precisão\n",
    "    precisao = vp / (vp + fp)\n",
    "    \n",
    "    # Calcular F-score\n",
    "    fscore = 2 * (precisao * sensibilidade) / (precisao + sensibilidade)\n",
    "    \n",
    "    # Retornar as métricas calculadas\n",
    "    return acuracia, sensibilidade, especificidade, precisao, fscore"
   ]
  },
  {
   "cell_type": "markdown",
   "id": "5f1279fc",
   "metadata": {},
   "source": [
    "## Realizando o cálculo das métricas:"
   ]
  },
  {
   "cell_type": "code",
   "execution_count": 404,
   "id": "87bcbd9b",
   "metadata": {},
   "outputs": [],
   "source": [
    "vp = 53; vn = 103 ; fp = 11; fn = 4"
   ]
  },
  {
   "cell_type": "code",
   "execution_count": 405,
   "id": "48a7ec8b",
   "metadata": {},
   "outputs": [
    {
     "name": "stdout",
     "output_type": "stream",
     "text": [
      "Acurácia: 0.9122807017543859\n",
      "Sensibilidade (Recall): 0.9298245614035088\n",
      "Especificidade: 0.9035087719298246\n",
      "Precisão: 0.828125\n",
      "F-score: 0.8760330578512396\n"
     ]
    }
   ],
   "source": [
    "metricas = calcular_metricas(vp, vn, fp, fn)\n",
    "\n",
    "# Imprimir as métricas\n",
    "print(\"Acurácia:\", metricas[0])\n",
    "print(\"Sensibilidade (Recall):\", metricas[1])\n",
    "print(\"Especificidade:\", metricas[2])\n",
    "print(\"Precisão:\", metricas[3])\n",
    "print(\"F-score:\", metricas[4])"
   ]
  },
  {
   "cell_type": "markdown",
   "id": "83415e4c",
   "metadata": {},
   "source": [
    "## Conferindo com a biblioteca do sklearn.metrics:"
   ]
  },
  {
   "cell_type": "code",
   "execution_count": 408,
   "id": "a242ae9f",
   "metadata": {},
   "outputs": [
    {
     "name": "stdout",
     "output_type": "stream",
     "text": [
      "Acurácia: 0.9122807017543859\n",
      "Sensibilidade (Recall): 0.9298245614035088\n",
      "Precisão: 0.828125\n",
      "F1-score: 0.8760330578512396\n"
     ]
    }
   ],
   "source": [
    "# Calcular as métricas de avaliação\n",
    "accuracy = accuracy_score(y_test, y_pred)\n",
    "precision = precision_score(y_test, y_pred, pos_label=0)\n",
    "recall = recall_score(y_test, y_pred, pos_label=0)\n",
    "f1 = f1_score(y_test, y_pred, pos_label=0)\n",
    "\n",
    "# Exibir as métricas de avaliação\n",
    "print(f'Acurácia: {accuracy}')\n",
    "print(f'Sensibilidade (Recall): {recall}')\n",
    "print(f'Precisão: {precision}')\n",
    "print(f'F1-score: {f1}')"
   ]
  },
  {
   "cell_type": "markdown",
   "id": "778ccf33",
   "metadata": {},
   "source": [
    "## Conclusão:"
   ]
  },
  {
   "cell_type": "markdown",
   "id": "ebf3b01e",
   "metadata": {},
   "source": [
    "* **Acurácia:** A acurácia é uma medida de quão precisa é a classificação do modelo em geral. Ela representa a proporção de casos corretamente classificados em relação ao total de casos. No resultado fornecido (0.9122807017543859), a acurácia é de aproximadamente 91.23%, o que indica que o modelo classificou corretamente cerca de 91.23% dos casos."
   ]
  },
  {
   "cell_type": "markdown",
   "id": "dad598aa",
   "metadata": {},
   "source": [
    "* **Sensibilidade (Recall):** A sensibilidade, também conhecida como recall ou taxa de verdadeiros positivos, mede a proporção de casos positivos corretamente identificados pelo modelo em relação ao total de casos positivos. No resultado fornecido (0.9298245614035088), a sensibilidade é de aproximadamente 92.98%, o que indica que o modelo identificou corretamente cerca de 92.98% dos casos positivos(malignos)."
   ]
  },
  {
   "cell_type": "markdown",
   "id": "eba2be4d",
   "metadata": {},
   "source": [
    "* **Especificidade:** A especificidade mede a proporção de casos negativos corretamente identificados pelo modelo em relação ao total de casos negativos. No resultado fornecido (0.9035087719298246), a especificidade é de aproximadamente 90.35%, o que indica que o modelo identificou corretamente cerca de 90.35% dos casos negativos(benignos)."
   ]
  },
  {
   "cell_type": "markdown",
   "id": "48912d48",
   "metadata": {},
   "source": [
    "* **Precisão:** A precisão mede a proporção de casos positivos corretamente identificados em relação ao total de casos classificados como positivos pelo modelo. No resultado fornecido (0.828125), a precisão é de aproximadamente 82.81%, o que indica que, dos casos classificados como positivos pelo modelo, cerca de 82.81% foram corretamente identificados."
   ]
  },
  {
   "cell_type": "markdown",
   "id": "86216aa1",
   "metadata": {},
   "source": [
    "* **F-score:** O F-score é uma medida que combina a precisão e a sensibilidade do modelo em uma única métrica. Ele fornece uma medida de equilíbrio entre a precisão e a sensibilidade. No resultado fornecido (0.8760330578512396), o F-score é de aproximadamente 87.60%, indicando um bom equilíbrio entre a precisão e a sensibilidade do modelo."
   ]
  },
  {
   "cell_type": "markdown",
   "id": "8310244f",
   "metadata": {},
   "source": [
    "**Essas métricas são usadas para avaliar a performance de modelos de classificação e fornecem informações sobre a qualidade das predições em diferentes aspectos, como a taxa de acertos, a capacidade de identificar corretamente casos positivos e negativos, a precisão na classificação dos casos positivos e o equilíbrio entre precisão e sensibilidade. É importante considerar todas essas métricas em conjunto para obter uma visão abrangente do desempenho do modelo.**"
   ]
  },
  {
   "cell_type": "code",
   "execution_count": null,
   "id": "23191471",
   "metadata": {},
   "outputs": [],
   "source": []
  }
 ],
 "metadata": {
  "kernelspec": {
   "display_name": "Python 3 (ipykernel)",
   "language": "python",
   "name": "python3"
  },
  "language_info": {
   "codemirror_mode": {
    "name": "ipython",
    "version": 3
   },
   "file_extension": ".py",
   "mimetype": "text/x-python",
   "name": "python",
   "nbconvert_exporter": "python",
   "pygments_lexer": "ipython3",
   "version": "3.9.12"
  }
 },
 "nbformat": 4,
 "nbformat_minor": 5
}
