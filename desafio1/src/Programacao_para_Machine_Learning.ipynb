{
 "cells": [
  {
   "cell_type": "markdown",
   "id": "b6aebdc4",
   "metadata": {},
   "source": [
    "# Desafio de código python."
   ]
  },
  {
   "cell_type": "markdown",
   "id": "03dc5b62",
   "metadata": {},
   "source": [
    "**Resolução dos exercícios conforme as devidas solicitações, os códigos foram inclusos em funções para facilitar os testes para comparação com os exemplos.**"
   ]
  },
  {
   "cell_type": "markdown",
   "id": "718efa69",
   "metadata": {
    "heading_collapsed": true
   },
   "source": [
    "## Desafio 1:"
   ]
  },
  {
   "cell_type": "markdown",
   "id": "2a78f64c",
   "metadata": {
    "hidden": true
   },
   "source": [
    "**Leia 2 valores de ponto flutuante de dupla precisão A e B, que correspondem a 2 notas de um aluno. A seguir, calcule a média do aluno, sabendo que a nota A tem peso 3.5 e a nota B tem peso 7.5 (A soma dos pesos portanto é 11). Assuma que cada nota pode ir de 0 até 10.0, sempre com uma casa decimal.**"
   ]
  },
  {
   "cell_type": "markdown",
   "id": "13408605",
   "metadata": {
    "hidden": true
   },
   "source": [
    "**Entrada:**\n",
    "* O arquivo de entrada contém 2 valores com uma casa decimal cada um."
   ]
  },
  {
   "cell_type": "markdown",
   "id": "386f22c2",
   "metadata": {
    "hidden": true
   },
   "source": [
    "**Saída:**\n",
    "* Calcule e imprima a variável MEDIA conforme exemplo abaixo, com 5 dígitos após o ponto decimal e com um espaço em branco antes e depois da igualdade. \n",
    "* Utilize variáveis de dupla precisão (double) e como todos os problemas, não esqueça de imprimir o fim de linha após o resultado, caso contrário, você receberá \"Presentation Error\"."
   ]
  },
  {
   "cell_type": "code",
   "execution_count": 53,
   "id": "2fa65b4e",
   "metadata": {
    "hidden": true,
    "scrolled": true
   },
   "outputs": [
    {
     "name": "stdout",
     "output_type": "stream",
     "text": [
      "+---------------------+-------------------+\n",
      "| Exemplos de Entrada | Exemplos de Saída |\n",
      "+---------------------+-------------------+\n",
      "|         5.0         |  MEDIA = 6.43182  |\n",
      "|         7.1         |                   |\n",
      "|                     |                   |\n",
      "|         0.0         |  MEDIA = 4.84091  |\n",
      "|         7.1         |                   |\n",
      "|                     |                   |\n",
      "|         10.0        |  MEDIA = 10.00000 |\n",
      "|         10.0        |                   |\n",
      "+---------------------+-------------------+\n"
     ]
    }
   ],
   "source": [
    "# Criar a tabela\n",
    "table = PrettyTable()\n",
    "\n",
    "# Adicionar as linhas à tabela\n",
    "table.field_names = [\"Exemplos de Entrada\", \"Exemplos de Saída\"]\n",
    "table.add_row([5.0, \"MEDIA = 6.43182\"])\n",
    "table.add_row([7.1, \"\"])\n",
    "table.add_row(['',''])\n",
    "table.add_row([\"0.0\", \"MEDIA = 4.84091\"])\n",
    "table.add_row([\"7.1\", \"\"])\n",
    "table.add_row(['',''])\n",
    "table.add_row([10.0, \"MEDIA = 10.00000\"])\n",
    "table.add_row([10.0, \"\"])\n",
    "\n",
    "# Exibir a tabela\n",
    "print(table)\n"
   ]
  },
  {
   "cell_type": "markdown",
   "id": "aee393d4",
   "metadata": {
    "hidden": true
   },
   "source": [
    "**Função com a resolução**"
   ]
  },
  {
   "cell_type": "code",
   "execution_count": 57,
   "id": "8d01458a",
   "metadata": {
    "hidden": true
   },
   "outputs": [],
   "source": [
    "def desafio1():\n",
    "    a = float(input())\n",
    "    b = float(input())\n",
    "\n",
    "    #TODO: Complete os espaços em branco com as respectivas variáveis para o cálculo da média.\n",
    "    media = ( a * 3.5 +  b * 7.5) / 11\n",
    "\n",
    "#TODO: Complete com a variável que representa o resultado da média.\n",
    "    return print(f'MEDIA = { media: .5f}')\n",
    "\n"
   ]
  },
  {
   "cell_type": "markdown",
   "id": "a8c61960",
   "metadata": {
    "hidden": true
   },
   "source": [
    "**Conferindo os resultados com os valores do exemplo:**"
   ]
  },
  {
   "cell_type": "code",
   "execution_count": 61,
   "id": "161fbeba",
   "metadata": {
    "hidden": true
   },
   "outputs": [
    {
     "name": "stdout",
     "output_type": "stream",
     "text": [
      "5.0\n",
      "7.1\n",
      "MEDIA =  6.43182\n",
      "0.0\n",
      "7.1\n",
      "MEDIA =  4.84091\n",
      "10.0\n",
      "10.0\n",
      "MEDIA =  10.00000\n"
     ]
    }
   ],
   "source": [
    "for i in range(3):\n",
    "    desafio1()\n"
   ]
  },
  {
   "cell_type": "markdown",
   "id": "c4da5170",
   "metadata": {
    "heading_collapsed": true
   },
   "source": [
    "## Desafio 2:"
   ]
  },
  {
   "cell_type": "markdown",
   "id": "d3e2f6bc",
   "metadata": {
    "hidden": true
   },
   "source": [
    "**Leia 3 valores reais (A, B e C) e verifique se eles formam ou não um triângulo. Em caso positivo, calcule o perímetro do triângulo (soma de todos os lados) e apresente a mensagem:**\n",
    "* Perimetro = XX.X"
   ]
  },
  {
   "cell_type": "markdown",
   "id": "e083bfc3",
   "metadata": {
    "hidden": true
   },
   "source": [
    "**Em caso negativo, calcule a área do trapézio que tem A e B como base e C como altura, mostrando a mensagem:**\n",
    "* Area = XX.X\n"
   ]
  },
  {
   "cell_type": "markdown",
   "id": "82d5f5ff",
   "metadata": {
    "hidden": true
   },
   "source": [
    "**Fórmula da área de um trapézio: AREA = ((A + B) x C) / 2**"
   ]
  },
  {
   "cell_type": "markdown",
   "id": "8a02efc6",
   "metadata": {
    "hidden": true
   },
   "source": [
    "**Entrada**:\n",
    "* A entrada contém três valores reais."
   ]
  },
  {
   "cell_type": "markdown",
   "id": "88bb0744",
   "metadata": {
    "hidden": true
   },
   "source": [
    "**Saída:**\n",
    "* O resultado deve ser apresentado com uma casa decimal."
   ]
  },
  {
   "cell_type": "code",
   "execution_count": 69,
   "id": "c0f22e4f",
   "metadata": {
    "hidden": true
   },
   "outputs": [
    {
     "name": "stdout",
     "output_type": "stream",
     "text": [
      "+---------------------+-------------------+\n",
      "| Exemplos de Entrada | Exemplos de Saída |\n",
      "+---------------------+-------------------+\n",
      "|                     |                   |\n",
      "|    6.0  4.0  2.0    |    Area = 10.0    |\n",
      "|    6.0  4.0  2.1    |  Perimetro = 12.1 |\n",
      "+---------------------+-------------------+\n"
     ]
    }
   ],
   "source": [
    "# Criar a tabela\n",
    "table = PrettyTable()\n",
    "\n",
    "# Adicionar as linhas à tabela\n",
    "table.field_names = [\"Exemplos de Entrada\", \"Exemplos de Saída\"]\n",
    "table.add_row(['',''])\n",
    "table.add_row(['6.0  4.0  2.0', \"Area = 10.0\"])\n",
    "table.add_row(['6.0  4.0  2.1', \"Perimetro = 12.1\"])\n",
    "\n",
    "# Exibir a tabela\n",
    "print(table)\n"
   ]
  },
  {
   "cell_type": "markdown",
   "id": "0522b1ff",
   "metadata": {
    "hidden": true
   },
   "source": [
    "**Função com a resolução**"
   ]
  },
  {
   "cell_type": "code",
   "execution_count": 71,
   "id": "47ff564a",
   "metadata": {
    "hidden": true
   },
   "outputs": [],
   "source": [
    "def desafio2():\n",
    "    lados = [float(x) for x in input().split()]\n",
    "\n",
    "    a = lados[0];\n",
    "    b = lados[1];\n",
    "    c = lados[2];\n",
    "\n",
    "    if a + b > c and a + c > b and b + c > a:\n",
    "        #TODO Preencha a formula do perímeto do triangulo (soma de todos os lados).\n",
    "        return print(f\"Perimetro = {sum(lados):.1f}\")\n",
    "    else:\n",
    "        #TODO Preencha a formula da área do trapézio: AREA = ((A + B) x C) / 2\n",
    "        return print(f\"Area = {((a + b) * c) / 2:.1f}\")"
   ]
  },
  {
   "cell_type": "markdown",
   "id": "3a478999",
   "metadata": {
    "hidden": true
   },
   "source": [
    "**Conferindo os resultados com os valores do exemplo:**"
   ]
  },
  {
   "cell_type": "code",
   "execution_count": 72,
   "id": "b53ca949",
   "metadata": {
    "hidden": true
   },
   "outputs": [
    {
     "name": "stdout",
     "output_type": "stream",
     "text": [
      "6.0 4.0 2.0\n",
      "Area = 10.0\n",
      "6.0 4.0 2.1\n",
      "Perimetro = 12.1\n"
     ]
    }
   ],
   "source": [
    "for i in range(2):\n",
    "    desafio2()"
   ]
  },
  {
   "cell_type": "markdown",
   "id": "c704bc67",
   "metadata": {
    "heading_collapsed": true
   },
   "source": [
    "## Desafio 3:"
   ]
  },
  {
   "cell_type": "markdown",
   "id": "ab584ac4",
   "metadata": {
    "hidden": true
   },
   "source": [
    "**Você terá o desafio de ler um valor inteiro, que é o tempo de duração em segundos de um determinado evento em uma loja, e informe-o expresso no formato horas:minutos:segundos.**"
   ]
  },
  {
   "cell_type": "markdown",
   "id": "8f478484",
   "metadata": {
    "hidden": true
   },
   "source": [
    "**Entrada:**\n",
    "* O arquivo de entrada contém um valor inteiro N."
   ]
  },
  {
   "cell_type": "markdown",
   "id": "3f62061a",
   "metadata": {
    "hidden": true
   },
   "source": [
    "**Saída:**\n",
    "* Imprima o tempo lido no arquivo de entrada (segundos), convertido para horas:minutos:segundos, conforme exemplo fornecido."
   ]
  },
  {
   "cell_type": "code",
   "execution_count": 73,
   "id": "f2b982f1",
   "metadata": {
    "hidden": true
   },
   "outputs": [
    {
     "name": "stdout",
     "output_type": "stream",
     "text": [
      "+---------------------+-------------------+\n",
      "| Exemplos de Entrada | Exemplos de Saída |\n",
      "+---------------------+-------------------+\n",
      "|                     |                   |\n",
      "|         556         |      0:9:160      |\n",
      "|          1          |       0:0:1       |\n",
      "+---------------------+-------------------+\n"
     ]
    }
   ],
   "source": [
    "# Criar a tabela\n",
    "table = PrettyTable()\n",
    "\n",
    "# Adicionar as linhas à tabela\n",
    "table.field_names = [\"Exemplos de Entrada\", \"Exemplos de Saída\"]\n",
    "table.add_row(['',''])\n",
    "table.add_row(['556', \"0:9:160\"])\n",
    "table.add_row(['1', \"0:0:1\"])\n",
    "\n",
    "# Exibir a tabela\n",
    "print(table)\n"
   ]
  },
  {
   "cell_type": "markdown",
   "id": "b45e8233",
   "metadata": {
    "hidden": true
   },
   "source": [
    "**Função com a resolução**"
   ]
  },
  {
   "cell_type": "code",
   "execution_count": 76,
   "id": "432f659f",
   "metadata": {
    "hidden": true
   },
   "outputs": [],
   "source": [
    "def desafio3():\n",
    "    segundos = int(input())\n",
    "\n",
    "    minutos = segundos//60\n",
    "    segundos = int(segundos - (minutos * 60))\n",
    "    horas = minutos//60\n",
    "    minutos = int(minutos - (horas * 60))\n",
    "\n",
    "    return print(\"{}:{}:{}\".format(horas, minutos, segundos))"
   ]
  },
  {
   "cell_type": "markdown",
   "id": "70dd7eb1",
   "metadata": {
    "hidden": true
   },
   "source": [
    "**Conferindo os resultados com os valores do exemplo:**"
   ]
  },
  {
   "cell_type": "code",
   "execution_count": 78,
   "id": "d016fbe9",
   "metadata": {
    "hidden": true
   },
   "outputs": [
    {
     "name": "stdout",
     "output_type": "stream",
     "text": [
      "556\n",
      "0:9:16\n",
      "1\n",
      "0:0:1\n"
     ]
    }
   ],
   "source": [
    "for i in range(2):\n",
    "    desafio3()"
   ]
  },
  {
   "cell_type": "code",
   "execution_count": null,
   "id": "dfc4a9ea",
   "metadata": {
    "hidden": true
   },
   "outputs": [],
   "source": []
  }
 ],
 "metadata": {
  "kernelspec": {
   "display_name": "Python 3 (ipykernel)",
   "language": "python",
   "name": "python3"
  },
  "language_info": {
   "codemirror_mode": {
    "name": "ipython",
    "version": 3
   },
   "file_extension": ".py",
   "mimetype": "text/x-python",
   "name": "python",
   "nbconvert_exporter": "python",
   "pygments_lexer": "ipython3",
   "version": "3.9.12"
  }
 },
 "nbformat": 4,
 "nbformat_minor": 5
}
